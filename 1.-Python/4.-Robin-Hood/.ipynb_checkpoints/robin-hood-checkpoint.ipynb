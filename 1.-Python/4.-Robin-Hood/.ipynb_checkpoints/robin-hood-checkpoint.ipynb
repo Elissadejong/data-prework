{
 "cells": [
  {
   "cell_type": "markdown",
   "metadata": {},
   "source": [
    "<img src=\"https://bit.ly/2VnXWr2\" width=\"100\" align=\"left\"/>"
   ]
  },
  {
   "cell_type": "markdown",
   "metadata": {},
   "source": [
    "# Robin Hood\n",
    "Robin Hood has entered a competition to win the archery contest in Sherwood. With his bow and arrows, he needs to shoot on a target and try to hit as close as possible to the center.\n",
    "\n",
    "![](images/arrows.jpg)\n",
    "\n",
    "## Context\n",
    "In this challenge, the landing position of arrows shot by archers in the competition will be represented using 2-dimensional coordinates. \n",
    "\n",
    "In the 2-dimensional space, a point can be defined by a pair of values that correspond to the horizontal coordinate (x) and the vertical coordinate (y). For example, in our case, an arrow that hits the center of the archery target will land in position (0, 0) on the coordinate axes. \n",
    "\n",
    "The space can be divided into 4 zones (quadrants): Q1, Q2, Q3, Q4. If a point is in Q1, both its x coordinate and y coordinate are positive. Any point with a null x or y coordinate is considered to not belong to any quadrant. \n",
    "\n",
    "If you want to know more about the cartesian coordinate system, you can check this [link](https://en.wikipedia.org/wiki/Cartesian_coordinate_system). \n",
    "\n",
    "## Tools\n",
    "You don't necessarily need to use all the tools. Maybe you opt to use some of them or completely different ones, they are given to help you shape the exercise. Programming exercises can be solved in many different ways.\n",
    "* Data structures: **lists, sets, tuples**\n",
    "* Conditional statements: **if-elif-else**\n",
    "* Loop: **while/for**\n",
    "* Minimum (optional sorting)\n",
    "\n",
    "## Tasks\n",
    "Robin Hood has hit the following points:"
   ]
  },
  {
   "cell_type": "code",
   "execution_count": 1,
   "metadata": {},
   "outputs": [],
   "source": [
    "points = [(4, 5), (-0, 2), (4, 7), (1, -3), (3, -2), (4, 5), (3, 2), (5, 7), (-5, 7), (2, 2), (-4, 5), (0, -2),\n",
    "          (-4, 7), (-1, 3), (-3, 2), (-4, -5), (-3, 2), (5, 7), (5, 7), (2, 2), (9, 9), (-8, -9)]"
   ]
  },
  {
   "cell_type": "markdown",
   "metadata": {},
   "source": [
    "#### 1. Robin Hood is famous for hitting an arrow with another arrow. Find the coordinates of the points where an arrow hits another arrow."
   ]
  },
  {
   "cell_type": "code",
   "execution_count": 2,
   "metadata": {},
   "outputs": [
    {
     "name": "stdout",
     "output_type": "stream",
     "text": [
      "{(-5, 7), (3, -2), (-4, 7), (-4, 5), (9, 9), (5, 7), (4, 5), (0, 2), (1, -3), (-1, 3), (-4, -5), (2, 2), (-3, 2), (3, 2), (-8, -9), (0, -2), (4, 7)}\n"
     ]
    }
   ],
   "source": [
    "uniques_arrow = set(points)\n",
    "print(uniques_arrow)"
   ]
  },
  {
   "cell_type": "code",
   "execution_count": 3,
   "metadata": {},
   "outputs": [
    {
     "name": "stdout",
     "output_type": "stream",
     "text": [
      "[(-5, 7), (3, -2), (-4, 7), (-4, 5), (9, 9), (5, 7), (4, 5), (0, 2), (1, -3), (-1, 3), (-4, -5), (2, 2), (-3, 2), (3, 2), (-8, -9), (0, -2), (4, 7)]\n"
     ]
    }
   ],
   "source": [
    "list_uniques = list(uniques_arrow)\n",
    "print(list_uniques)"
   ]
  },
  {
   "cell_type": "code",
   "execution_count": 4,
   "metadata": {},
   "outputs": [
    {
     "name": "stdout",
     "output_type": "stream",
     "text": [
      "Points sorted  [(-8, -9), (-5, 7), (-4, -5), (-4, 5), (-4, 7), (-3, 2), (-3, 2), (-1, 3), (0, -2), (0, 2), (1, -3), (2, 2), (2, 2), (3, -2), (3, 2), (4, 5), (4, 5), (4, 7), (5, 7), (5, 7), (5, 7), (9, 9)]\n"
     ]
    }
   ],
   "source": [
    "points.sort()\n",
    "print(\"Points sorted \",points)"
   ]
  },
  {
   "cell_type": "code",
   "execution_count": 5,
   "metadata": {},
   "outputs": [
    {
     "name": "stdout",
     "output_type": "stream",
     "text": [
      "Uniques sorted  [(-8, -9), (-5, 7), (-4, -5), (-4, 5), (-4, 7), (-3, 2), (-1, 3), (0, -2), (0, 2), (1, -3), (2, 2), (3, -2), (3, 2), (4, 5), (4, 7), (5, 7), (9, 9)]\n"
     ]
    }
   ],
   "source": [
    "list_uniques.sort()\n",
    "print(\"Uniques sorted \",list_uniques)"
   ]
  },
  {
   "cell_type": "code",
   "execution_count": 6,
   "metadata": {},
   "outputs": [
    {
     "name": "stdout",
     "output_type": "stream",
     "text": [
      "[(-3, 2), (-3, 2), (2, 2), (2, 2), (4, 5), (4, 5), (5, 7), (5, 7), (5, 7)]\n"
     ]
    }
   ],
   "source": [
    "doubles = []\n",
    "\n",
    "for point in points:\n",
    "    if points.count(point) > 1:\n",
    "        doubles.append(point)\n",
    "\n",
    "print(doubles)"
   ]
  },
  {
   "cell_type": "code",
   "execution_count": 7,
   "metadata": {},
   "outputs": [
    {
     "name": "stdout",
     "output_type": "stream",
     "text": [
      "The coordinates of the points where an arrow hits another arrow are  {(-3, 2), (4, 5), (5, 7), (2, 2)}\n"
     ]
    }
   ],
   "source": [
    "double_arrow = set(doubles)\n",
    "print(\"The coordinates of the points where an arrow hits another arrow are \",double_arrow)"
   ]
  },
  {
   "cell_type": "markdown",
   "metadata": {},
   "source": [
    "#### 2. Calculate how many arrows have fallen in each quadrant. \n",
    "**Note**: the arrows that fall in the axis (x=0 or y=0) don't belong to any quadrant."
   ]
  },
  {
   "cell_type": "code",
   "execution_count": 8,
   "metadata": {},
   "outputs": [
    {
     "name": "stdout",
     "output_type": "stream",
     "text": [
      "The amount of arrows that fall into quadrant 1 is 10\n",
      "The amount of arrows that fall into quadrant 2 is 6\n",
      "The amount of arrows that fall into quadrant 3 is 2\n",
      "The amount of arrows that fall into quadrant 4 is 2\n"
     ]
    }
   ],
   "source": [
    "q1 = []\n",
    "q2 = []\n",
    "q3 = []\n",
    "q4 = []\n",
    "\n",
    "for x, y in points:\n",
    "    if (x > 0) & (y > 0):\n",
    "        quad1 = (x, y)\n",
    "        q1.append(quad1)\n",
    "    elif (x < 0) & (y > 0):\n",
    "        quad2 = (x, y)\n",
    "        q2.append(quad2)\n",
    "    elif (x < 0) & (y < 0):\n",
    "        quad3 = (x, y)\n",
    "        q3.append(quad3)\n",
    "    elif (x > 0) & (y < 0):\n",
    "        quad4 = (x, y)\n",
    "        q4.append(quad4)\n",
    "\n",
    "print(\"The amount of arrows that fall into quadrant 1 is\", len(q1))\n",
    "print(\"The amount of arrows that fall into quadrant 2 is\", len(q2))\n",
    "print(\"The amount of arrows that fall into quadrant 3 is\", len(q3))\n",
    "print(\"The amount of arrows that fall into quadrant 4 is\", len(q4))"
   ]
  },
  {
   "cell_type": "markdown",
   "metadata": {},
   "source": [
    "#### 3. Find the point closest to the center. Calculate its distance to the center. \n",
    "Take into account that there might be more than one point at the minimum distance to the center.\n",
    "\n",
    "**Hint**: Use the Euclidean distance. You can find more information about it [here](https://en.wikipedia.org/wiki/Euclidean_distance).  \n",
    "**Hint**: Defining a function that calculates the distance to the center can help."
   ]
  },
  {
   "cell_type": "code",
   "execution_count": 9,
   "metadata": {},
   "outputs": [
    {
     "name": "stdout",
     "output_type": "stream",
     "text": [
      "sqrd X is  [64, 25, 16, 16, 16, 9, 9, 1, 0, 0, 1, 4, 4, 9, 9, 16, 16, 16, 25, 25, 25, 81]\n",
      "sqrd Y is  [81, 49, 25, 25, 49, 4, 4, 9, 4, 4, 9, 4, 4, 4, 4, 25, 25, 49, 49, 49, 49, 81]\n"
     ]
    }
   ],
   "source": [
    "# Euclidean distance ((x, y), (a, b)) = sqrt(((x - a)**2) + ((y - b)**2))\n",
    "# center = 0, 0\n",
    "# (a ,b) = (0, 0)\n",
    "\n",
    "sqrd_x = []\n",
    "sqrd_y = []\n",
    "\n",
    "for x, y in points:\n",
    "    sqrdx = (x)**2\n",
    "    sqrd_x.append(sqrdx)\n",
    "    sqrdy = (y)**2\n",
    "    sqrd_y.append(sqrdy)\n",
    "\n",
    "print(\"sqrd X is \",sqrd_x)\n",
    "print(\"sqrd Y is \",sqrd_y)"
   ]
  },
  {
   "cell_type": "code",
   "execution_count": 10,
   "metadata": {},
   "outputs": [
    {
     "name": "stdout",
     "output_type": "stream",
     "text": [
      "sum squared x, y is  [145, 74, 41, 41, 65, 13, 13, 10, 4, 4, 10, 8, 8, 13, 13, 41, 41, 65, 74, 74, 74, 162]\n"
     ]
    }
   ],
   "source": [
    "sum_sqrd_xy = []\n",
    "\n",
    "for x, y in zip(sqrd_x, sqrd_y):\n",
    "    sum = x + y\n",
    "    sum_sqrd_xy.append(sum)\n",
    "\n",
    "print(\"sum squared x, y is \",sum_sqrd_xy)"
   ]
  },
  {
   "cell_type": "code",
   "execution_count": 11,
   "metadata": {},
   "outputs": [],
   "source": [
    "import math"
   ]
  },
  {
   "cell_type": "code",
   "execution_count": 12,
   "metadata": {},
   "outputs": [
    {
     "name": "stdout",
     "output_type": "stream",
     "text": [
      "The distances to the center are  [12.041594578792296, 8.602325267042627, 6.4031242374328485, 6.4031242374328485, 8.06225774829855, 3.605551275463989, 3.605551275463989, 3.1622776601683795, 2.0, 2.0, 3.1622776601683795, 2.8284271247461903, 2.8284271247461903, 3.605551275463989, 3.605551275463989, 6.4031242374328485, 6.4031242374328485, 8.06225774829855, 8.602325267042627, 8.602325267042627, 8.602325267042627, 12.727922061357855]\n"
     ]
    }
   ],
   "source": [
    "distance_center = []\n",
    "\n",
    "for i in sum_sqrd_xy:\n",
    "    i = math.sqrt(i)\n",
    "    distance_center.append(i)\n",
    "\n",
    "print(\"The distances to the center are \",distance_center)"
   ]
  },
  {
   "cell_type": "code",
   "execution_count": 13,
   "metadata": {},
   "outputs": [
    {
     "name": "stdout",
     "output_type": "stream",
     "text": [
      "The distance of the closest point(s) to the center is  2.0\n"
     ]
    }
   ],
   "source": [
    "min(distance_center)\n",
    "print(\"The distance of the closest point(s) to the center is \",min(distance_center))"
   ]
  },
  {
   "cell_type": "code",
   "execution_count": 14,
   "metadata": {},
   "outputs": [
    {
     "name": "stdout",
     "output_type": "stream",
     "text": [
      "The coordinates of the point closest to the center are  (0, -2)\n",
      "The coordinates of the point closest to the center are  (0, 2)\n"
     ]
    }
   ],
   "source": [
    "for i, j in zip(points, distance_center):\n",
    "    if j == (min(distance_center)):\n",
    "        print(\"The coordinates of the point closest to the center are \",(i))"
   ]
  },
  {
   "cell_type": "markdown",
   "metadata": {},
   "source": [
    "#### 4. If the archery target has a radius of 9, calculate the number of arrows that won't hit the target. \n",
    "**Hint**: Use the function created in step 3. "
   ]
  },
  {
   "cell_type": "code",
   "execution_count": 15,
   "metadata": {},
   "outputs": [
    {
     "name": "stdout",
     "output_type": "stream",
     "text": [
      "The number of arrows missing the target is  2\n"
     ]
    }
   ],
   "source": [
    "arrows_missed = []\n",
    "arrow = 0\n",
    "\n",
    "for i in distance_center:\n",
    "    if i > 9.0:\n",
    "        arrow += 1\n",
    "        arrows_missed.append(arrow)\n",
    "\n",
    "print(\"The number of arrows missing the target is \", max(arrows_missed))          "
   ]
  }
 ],
 "metadata": {
  "kernelspec": {
   "display_name": "Python 3",
   "language": "python",
   "name": "python3"
  },
  "language_info": {
   "codemirror_mode": {
    "name": "ipython",
    "version": 3
   },
   "file_extension": ".py",
   "mimetype": "text/x-python",
   "name": "python",
   "nbconvert_exporter": "python",
   "pygments_lexer": "ipython3",
   "version": "3.9.4"
  }
 },
 "nbformat": 4,
 "nbformat_minor": 2
}
