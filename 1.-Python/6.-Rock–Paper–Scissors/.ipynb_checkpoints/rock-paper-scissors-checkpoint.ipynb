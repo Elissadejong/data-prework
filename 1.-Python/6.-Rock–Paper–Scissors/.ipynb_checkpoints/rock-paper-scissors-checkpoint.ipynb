{
 "cells": [
  {
   "cell_type": "markdown",
   "metadata": {},
   "source": [
    "<img src=\"https://bit.ly/2VnXWr2\" width=\"100\" align=\"left\">"
   ]
  },
  {
   "cell_type": "markdown",
   "metadata": {},
   "source": [
    "# Rock, Paper & Scissors\n",
    "\n",
    "Let's play the famous game against our computer. You can check the rules [here](https://en.wikipedia.org/wiki/Rock%E2%80%93paper%E2%80%93scissors). \n",
    "\n",
    "## Task\n",
    "Create a program that imitates the playability of the well known game of rock, paper, scissors. Follow the guidelines provided.\n",
    "\n",
    "## Tools\n",
    "1. Loop: **for/while**\n",
    "2. Functions: **input(), print()...**\n",
    "3. Conditional statements: **if, elif, else**\n",
    "4. Definition of functions. Modular programming\n",
    "5. Import modules\n",
    "\n",
    "**To solve this challenge, the use of functions is recommended.**\n",
    "\n",
    "#### 1. Import the choice function of the random module."
   ]
  },
  {
   "cell_type": "code",
   "execution_count": 1,
   "metadata": {},
   "outputs": [],
   "source": [
    "import random\n",
    "from random import choice"
   ]
  },
  {
   "cell_type": "markdown",
   "metadata": {},
   "source": [
    "#### 2. Create a list that includes the 3 possible gesture options of the game: 'rock', 'paper' or 'scissors'. Store the list in a variable called `gestures`."
   ]
  },
  {
   "cell_type": "code",
   "execution_count": 2,
   "metadata": {},
   "outputs": [],
   "source": [
    "gestures = [\"ROCK\", \"PAPER\", \"SCISSORS\"]"
   ]
  },
  {
   "cell_type": "markdown",
   "metadata": {},
   "source": [
    "#### 3. Create a variable called `n_rounds` to store the maximum number of rounds to play in a game. \n",
    "Remember that the number of rounds must be odd: 1, 3, 5, ..."
   ]
  },
  {
   "cell_type": "code",
   "execution_count": 3,
   "metadata": {},
   "outputs": [],
   "source": [
    "n_rounds = 3"
   ]
  },
  {
   "cell_type": "markdown",
   "metadata": {},
   "source": [
    "#### 4. Create a variable called `rounds_to_win` to store the number of rounds that a player must win to win the game.\n",
    "**Hint**: the value stored in `rounds_to_win` depends on the value of `n_rounds`. "
   ]
  },
  {
   "cell_type": "code",
   "execution_count": 4,
   "metadata": {},
   "outputs": [],
   "source": [
    "rounds_to_win = 2"
   ]
  },
  {
   "cell_type": "markdown",
   "metadata": {},
   "source": [
    "#### 5. Create two variables to store the number of rounds that the computer and the player have won. Call these variables `cpu_score` and `player_score`."
   ]
  },
  {
   "cell_type": "code",
   "execution_count": 5,
   "metadata": {},
   "outputs": [],
   "source": [
    "cpu_score = 0\n",
    "player_score = 0"
   ]
  },
  {
   "cell_type": "markdown",
   "metadata": {},
   "source": [
    "#### 6. Define a function that randomly returns one of the 3 gesture options.\n",
    "You will use this function to simulate the gesture choice of the computer. "
   ]
  },
  {
   "cell_type": "code",
   "execution_count": 6,
   "metadata": {},
   "outputs": [],
   "source": [
    "cpu_gesture = random.choice(gestures)"
   ]
  },
  {
   "cell_type": "markdown",
   "metadata": {},
   "source": [
    "#### 7. Define a function that asks the player which is the gesture he or she wants to show: 'rock', 'paper' or 'scissors'.\n",
    "The player should only be allowed to choose one of the 3 gesture options. If the player's choice is not rock, paper or scissors, keep asking until it is."
   ]
  },
  {
   "cell_type": "code",
   "execution_count": 7,
   "metadata": {},
   "outputs": [
    {
     "name": "stdout",
     "output_type": "stream",
     "text": [
      "Time to make your choice! Please enter rock, paper or scissors\n",
      "ROCK\n",
      "YOU CHOSE ROCK\n"
     ]
    }
   ],
   "source": [
    "player_gesture = \"\"\n",
    "\n",
    "#how do i delete invalid entries so only the choice is displayed?\n",
    "\n",
    "while (player_gesture == \"\") == True | (player_gesture not in gestures) == True:\n",
    "    print(\"Time to make your choice! Please enter rock, paper or scissors\")\n",
    "    choice = input().upper()\n",
    "    if (choice in gestures) == True:\n",
    "        player_gesture = choice\n",
    "        print(\"YOU CHOSE\",player_gesture)\n",
    "        break"
   ]
  },
  {
   "cell_type": "markdown",
   "metadata": {},
   "source": [
    "#### 8. Define a function that checks who won a round. \n",
    "The function should return 0 if there is a tie, 1 if the computer wins and 2 if the player wins."
   ]
  },
  {
   "cell_type": "code",
   "execution_count": 8,
   "metadata": {},
   "outputs": [
    {
     "name": "stdout",
     "output_type": "stream",
     "text": [
      "0\n"
     ]
    }
   ],
   "source": [
    "cpu_choices = []\n",
    "player_choices = []\n",
    "\n",
    "cpu_choices.append(cpu_gesture)\n",
    "player_choices.append(player_gesture)\n",
    "\n",
    "for c, p in zip(cpu_choices, player_choices):\n",
    "    if (c == p):\n",
    "        print(0)\n",
    "    elif (c == gestures[0]) & (p == gestures[1]):\n",
    "        print(2)\n",
    "    elif (c == gestures[0]) & (p == gestures[2]):\n",
    "        print(1)\n",
    "    elif (c == gestures[1]) & (p == gestures[0]):\n",
    "        print(1)\n",
    "    elif (c == gestures[1]) & (p == gestures[2]):\n",
    "        print(2)\n",
    "    elif (c == gestures[2]) & (p == gestures[0]):\n",
    "        print(2)\n",
    "    elif (c == gestures[2]) & (p == gestures[1]):\n",
    "        print(1)\n",
    "    "
   ]
  },
  {
   "cell_type": "markdown",
   "metadata": {},
   "source": [
    "#### 9. Define a function that prints the choice of the computer, the choice of the player and a message that announces who won the current round. \n",
    "You should also use this function to update the variables that count the number of rounds that the computer and the player have won. The score of the winner increases by one point. If there is a tie, the score does not increase."
   ]
  },
  {
   "cell_type": "code",
   "execution_count": 9,
   "metadata": {},
   "outputs": [
    {
     "name": "stdout",
     "output_type": "stream",
     "text": [
      "YOU CHOSE ROCK\n",
      "THE COMPUTER CHOSE ROCK\n",
      "IT'S A TIE\n"
     ]
    }
   ],
   "source": [
    "rounds = 0\n",
    "\n",
    "for c, p in zip(cpu_choices, player_choices):\n",
    "    if (c == p):\n",
    "        rounds += 1\n",
    "        cpu_score += 0\n",
    "        player_score += 0\n",
    "        (print(\"YOU CHOSE\",player_gesture), print(\"THE COMPUTER CHOSE\",cpu_gesture), print(\"IT'S A TIE\"))\n",
    "    elif (c == gestures[0]) & (p == gestures[1]):\n",
    "        rounds += 1\n",
    "        cpu_score += 0\n",
    "        player_score += 1\n",
    "        (print(\"YOU CHOSE\",player_gesture), print(\"THE COMPUTER CHOSE\",cpu_gesture), print(\"YOU WON\"))\n",
    "    elif (c == gestures[0]) & (p == gestures[2]):\n",
    "        rounds += 1\n",
    "        cpu_score += 1\n",
    "        player_score += 0\n",
    "        (print(\"YOU CHOSE\",player_gesture), print(\"THE COMPUTER CHOSE\",cpu_gesture), print(\"YOU LOST\"))\n",
    "    elif (c == gestures[1]) & (p == gestures[0]):\n",
    "        rounds += 1\n",
    "        cpu_score += 1\n",
    "        player_score += 0\n",
    "        (print(\"YOU CHOSE\",player_gesture), print(\"THE COMPUTER CHOSE\",cpu_gesture), print(\"YOU LOST\"))\n",
    "    elif (c == gestures[1]) & (p == gestures[2]):\n",
    "        rounds += 1\n",
    "        cpu_score += 0\n",
    "        player_score += 1\n",
    "        (print(\"YOU CHOSE\",player_gesture), print(\"THE COMPUTER CHOSE\",cpu_gesture), print(\"YOU WON\"))\n",
    "    elif (c == gestures[2]) & (p == gestures[0]):\n",
    "        rounds += 1\n",
    "        cpu_score += 0\n",
    "        player_score += 1\n",
    "        (print(\"YOU CHOSE\",player_gesture), print(\"THE COMPUTER CHOSE\",cpu_gesture), print(\"YOU WON\"))\n",
    "    elif (c == gestures[2]) & (p == gestures[1]):\n",
    "        rounds += 1\n",
    "        cpu_score += 1\n",
    "        player_score += 0\n",
    "        (print(\"YOU CHOSE\",player_gesture), print(\"THE COMPUTER CHOSE\",cpu_gesture), print(\"YOU LOST\"))\n"
   ]
  },
  {
   "cell_type": "markdown",
   "metadata": {},
   "source": [
    "#### 10. Now it's time to code the execution of the game using the functions and variables you defined above. \n",
    "\n",
    "First, create a loop structure that repeats while no player reaches the minimum score necessary to win and the number of rounds is less than the maximum number of rounds to play in a game.  \n",
    "\n",
    "Inside the loop, use the functions and variables above to create the execution of a round: ask for the player's choice, generate the random choice of the computer, show the round results, update the scores, etc. "
   ]
  },
  {
   "cell_type": "code",
   "execution_count": 10,
   "metadata": {},
   "outputs": [
    {
     "name": "stdout",
     "output_type": "stream",
     "text": [
      "Time to make your choice! Please enter rock, paper or scissors\n",
      "ROCK\n",
      "YOU CHOSE ROCK\n",
      "THE COMPUTER CHOSE PAPER\n",
      "YOU LOST THIS ROUND\n",
      "Time to make your choice! Please enter rock, paper or scissors\n",
      "PAPER\n",
      "YOU CHOSE PAPER\n",
      "THE COMPUTER CHOSE SCISSORS\n",
      "YOU LOST THIS ROUND\n",
      "____________________________________GAME OVER, THE SYSTEM GOT TO YOU\n"
     ]
    }
   ],
   "source": [
    "cpu_score = 0\n",
    "player_score = 0\n",
    "rounds = 0\n",
    "player_gesture = \"\"\n",
    "cpu_choices = []\n",
    "player_choices = []\n",
    "\n",
    "while (n_rounds != rounds) | (cpu_score < rounds_to_win) | (player_score < rounds_to_win):\n",
    "    player_gesture = \"\"\n",
    "    cpu_gesture = random.choice(gestures)\n",
    "    cpu_choices = []\n",
    "    player_choices = []\n",
    "    while (player_gesture == \"\") == True | (player_gesture not in gestures) == True:\n",
    "        print(\"Time to make your choice! Please enter rock, paper or scissors\")\n",
    "        choice = input().upper()\n",
    "        if (choice in gestures) == True:\n",
    "            player_gesture = choice\n",
    "            cpu_choices.append(cpu_gesture)\n",
    "            player_choices.append(player_gesture)\n",
    "            print(\"YOU CHOSE\",player_gesture)\n",
    "            for c, p in zip(cpu_choices, player_choices):\n",
    "                if (c == p):\n",
    "                    rounds += 1\n",
    "                    cpu_score += 0\n",
    "                    player_score += 0\n",
    "                    (print(\"THE COMPUTER CHOSE\",cpu_gesture), print(\"THIS ROUND IS A TIE\"))\n",
    "                    break\n",
    "                elif (c == gestures[0]) & (p == gestures[1]):\n",
    "                    rounds += 1\n",
    "                    cpu_score += 0\n",
    "                    player_score += 1\n",
    "                    (print(\"THE COMPUTER CHOSE\",cpu_gesture), print(\"YOU WON THIS ROUND\"))\n",
    "                    break\n",
    "                elif (c == gestures[0]) & (p == gestures[2]):\n",
    "                    rounds += 1\n",
    "                    cpu_score += 1\n",
    "                    player_score += 0\n",
    "                    (print(\"THE COMPUTER CHOSE\",cpu_gesture), print(\"YOU LOST THIS ROUND\"))\n",
    "                    break\n",
    "                elif (c == gestures[1]) & (p == gestures[0]):\n",
    "                    rounds += 1\n",
    "                    cpu_score += 1\n",
    "                    player_score += 0\n",
    "                    (print(\"THE COMPUTER CHOSE\",cpu_gesture), print(\"YOU LOST THIS ROUND\"))\n",
    "                    break\n",
    "                elif (c == gestures[1]) & (p == gestures[2]):\n",
    "                    rounds += 1\n",
    "                    cpu_score += 0\n",
    "                    player_score += 1\n",
    "                    (print(\"THE COMPUTER CHOSE\",cpu_gesture), print(\"YOU WON THIS ROUND\"))\n",
    "                    break\n",
    "                elif (c == gestures[2]) & (p == gestures[0]):\n",
    "                    rounds += 1\n",
    "                    cpu_score += 0\n",
    "                    player_score += 1\n",
    "                    (print(\"THE COMPUTER CHOSE\",cpu_gesture), print(\"YOU WON THIS ROUND\"))\n",
    "                    break\n",
    "                elif (c == gestures[2]) & (p == gestures[1]):\n",
    "                    rounds += 1\n",
    "                    cpu_score += 1\n",
    "                    player_score += 0\n",
    "                    (print(\"THE COMPUTER CHOSE\",cpu_gesture), print(\"YOU LOST THIS ROUND\"))\n",
    "                    break\n",
    "    if (cpu_score == rounds_to_win):\n",
    "        print(\"____________________________________GAME OVER, THE SYSTEM GOT TO YOU\")\n",
    "        break\n",
    "    elif (player_score == rounds_to_win):\n",
    "        print(\"____________________________________YOU BEAT THE SYSTEM\")\n",
    "        break\n",
    "    elif (n_rounds == rounds) & (player_score != rounds_to_win) & (cpu_score != rounds_to_win):\n",
    "        if player_score > cpu_score:\n",
    "            print(\"____________________________________YOU BEAT THE SYSTEM\")\n",
    "            break\n",
    "        elif cpu_score > player_score:\n",
    "            print(\"____________________________________GAME OVER, THE SYSTEM GOT TO YOU\")\n",
    "            break\n",
    "        elif cpu_score == player_score:\n",
    "            print(\"____________________________________YOU'VE MET YOUR MATCH, IT'S A TIE\")\n",
    "            break"
   ]
  },
  {
   "cell_type": "markdown",
   "metadata": {},
   "source": [
    "#### 11. Print the winner of the game based on who won more rounds.\n",
    "Remember that the game might be tied. "
   ]
  },
  {
   "cell_type": "code",
   "execution_count": 11,
   "metadata": {},
   "outputs": [
    {
     "name": "stdout",
     "output_type": "stream",
     "text": [
      "____________________________________GAME OVER, THE SYSTEM GOT TO YOU\n"
     ]
    }
   ],
   "source": [
    "if (cpu_score == rounds_to_win):\n",
    "    print(\"____________________________________GAME OVER, THE SYSTEM GOT TO YOU\")\n",
    "elif (player_score == rounds_to_win):\n",
    "    print(\"____________________________________YOU BEAT THE SYSTEM\")\n",
    "elif (n_rounds == rounds) & (player_score != rounds_to_win) & (cpu_score != rounds_to_win):\n",
    "    if player_score > cpu_score:\n",
    "        print(\"____________________________________YOU BEAT THE SYSTEM\")\n",
    "    elif cpu_score > player_score:\n",
    "        print(\"____________________________________GAME OVER, THE SYSTEM GOT TO YOU\")\n",
    "    elif cpu_score == player_score:\n",
    "        print(\"____________________________________YOU'VE MET YOUR MATCH, IT'S A TIE\")"
   ]
  },
  {
   "cell_type": "markdown",
   "metadata": {},
   "source": [
    "# Bonus: Rock, Paper, Scissors, Lizard & Spock\n",
    "![](images/rpsls.jpg)\n",
    "\n",
    "In this challenge, you need to improve the previous game by adding two new options. To know more about the rules of the improved version of rock, paper, scissors, check this [link](http://www.samkass.com/theories/RPSSL.html). \n",
    "\n",
    "In addition, you will also need to improve how the game interacts with the player: the number of rounds to play, which must be an odd number, will be requested to the user until a valid number is entered. Define a new function to make that request.\n",
    "\n",
    "**Hint**: Try to reuse the code that you already coded in the previous challenge. If your code is efficient, this bonus will only consist of simple modifications to the original game."
   ]
  },
  {
   "cell_type": "code",
   "execution_count": 12,
   "metadata": {},
   "outputs": [],
   "source": [
    "gestures_ext = [\"ROCK\", \"PAPER\", \"SCISSORS\", \"LIZARD\", \"SPOCK\"]"
   ]
  },
  {
   "cell_type": "code",
   "execution_count": 13,
   "metadata": {},
   "outputs": [],
   "source": [
    "cpu_score = 0\n",
    "player_score = 0\n",
    "\n",
    "rounds = 0\n",
    "number = 0\n",
    "n_rounds_ext = \"\"\n",
    "\n",
    "player_gesture = \"\"\n",
    "cpu_choices = []\n",
    "player_choices = []"
   ]
  },
  {
   "cell_type": "code",
   "execution_count": 14,
   "metadata": {},
   "outputs": [
    {
     "name": "stdout",
     "output_type": "stream",
     "text": [
      "HEY DAREDEVIL, so you think you have what it takes to crush your computer in RPSSL? We'll see! What is the maximum amount of rounds you wish for the battle to last?\n",
      "Please enter an ODD number\n",
      "2\n",
      "Please enter an ODD number\n",
      "7\n",
      "THE BATTLE WILL LAST A MAXIMUM OF 7 ROUNDS\n"
     ]
    }
   ],
   "source": [
    "print(\"HEY DAREDEVIL, so you think you have what it takes to crush your computer in RPSSL? We'll see! What is the maximum amount of rounds you wish for the battle to last?\")\n",
    "\n",
    "while (n_rounds_ext == \"\") == True | ((number % 2) == 0) == True:\n",
    "    print(\"Please enter an ODD number\")\n",
    "    number = int(input())\n",
    "    if (number % 2 == 1) == True:\n",
    "        n_rounds_ext = number\n",
    "        print(\"THE BATTLE WILL LAST A MAXIMUM OF\",n_rounds_ext,\"ROUNDS\")\n",
    "        break"
   ]
  },
  {
   "cell_type": "code",
   "execution_count": 15,
   "metadata": {},
   "outputs": [
    {
     "name": "stdout",
     "output_type": "stream",
     "text": [
      "HEY DAREDEVIL, so you think you have what it takes to crush your computer in RPSSL? We'll see! What is the maximum amount of rounds you wish for the battle to last?\n",
      "Please enter an ODD number\n",
      "2\n",
      "Please enter an ODD number\n",
      "7\n",
      "THE BATTLE WILL LAST A MAXIMUM OF 7 ROUNDS\n",
      "AND SO THE BATTLE BEGINS!\n",
      "Time to make your choice! Please enter rock, paper, scissors, spock or lizard\n",
      "lizard\n",
      "YOU CHOSE LIZARD\n",
      "THE COMPUTER CHOSE PAPER\n",
      "YOU WON THIS ROUND\n",
      "Time to make your choice! Please enter rock, paper, scissors, spock or lizard\n",
      "spock\n",
      "YOU CHOSE SPOCK\n",
      "THE COMPUTER CHOSE ROCK\n",
      "YOU WON THIS ROUND\n",
      "Time to make your choice! Please enter rock, paper, scissors, spock or lizard\n",
      "rock\n",
      "YOU CHOSE ROCK\n",
      "THE COMPUTER CHOSE SCISSORS\n",
      "YOU WON THIS ROUND\n",
      "Time to make your choice! Please enter rock, paper, scissors, spock or lizard\n",
      "paper\n",
      "YOU CHOSE PAPER\n",
      "THE COMPUTER CHOSE SPOCK\n",
      "YOU WON THIS ROUND\n",
      "____________________________________YOU BEAT THE SYSTEM\n"
     ]
    }
   ],
   "source": [
    "cpu_score = 0\n",
    "player_score = 0\n",
    "\n",
    "rounds = 0\n",
    "number = 0\n",
    "n_rounds_ext = int()\n",
    "rounds_to_win = int()\n",
    "\n",
    "player_gesture = \"\"\n",
    "cpu_gesture = random.choice(gestures_ext)\n",
    "cpu_choices = []\n",
    "player_choices = []\n",
    "\n",
    "print(\"HEY DAREDEVIL, so you think you have what it takes to crush your computer in RPSSL? We'll see! What is the maximum amount of rounds you wish for the battle to last?\")\n",
    "\n",
    "while (n_rounds_ext == int()) == True | ((number % 2) == 0) == True:\n",
    "    print(\"Please enter an ODD number\")\n",
    "    number = int(input())\n",
    "    if (number % 2 == 1) == True:\n",
    "        n_rounds_ext = number\n",
    "        rounds_to_win = ((number / 2) + 0.5)\n",
    "        print(\"THE BATTLE WILL LAST A MAXIMUM OF\",n_rounds_ext,\"ROUNDS\")\n",
    "        print(\"AND SO THE BATTLE BEGINS!\")\n",
    "    while (n_rounds_ext != rounds) | (cpu_score < rounds_to_win) | (player_score < rounds_to_win):\n",
    "        player_gesture = \"\"\n",
    "        cpu_gesture = random.choice(gestures_ext)\n",
    "        cpu_choices = []\n",
    "        player_choices = []\n",
    "        while (player_gesture == \"\") == True | (player_gesture not in gestures_ext) == True:\n",
    "            print(\"Time to make your choice! Please enter rock, paper, scissors, spock or lizard\")\n",
    "            choice = input().upper()\n",
    "            if (choice in gestures_ext) == True:\n",
    "                player_gesture = choice\n",
    "                cpu_choices.append(cpu_gesture)\n",
    "                player_choices.append(player_gesture)\n",
    "                print(\"YOU CHOSE\",player_gesture)\n",
    "                for c, p in zip(cpu_choices, player_choices):\n",
    "                    if (c == p):\n",
    "                        rounds += 1\n",
    "                        cpu_score += 0\n",
    "                        player_score += 0\n",
    "                        (print(\"THE COMPUTER CHOSE\",cpu_gesture), print(\"THIS ROUND IS A TIE\"))\n",
    "                        break\n",
    "                    elif (c == gestures_ext[0]) & (p == gestures_ext[1]):\n",
    "                        rounds += 1\n",
    "                        cpu_score += 0\n",
    "                        player_score += 1\n",
    "                        (print(\"THE COMPUTER CHOSE\",cpu_gesture), print(\"YOU WON THIS ROUND\"))\n",
    "                        break\n",
    "                    elif (c == gestures_ext[0]) & (p == gestures_ext[2]):\n",
    "                        rounds += 1\n",
    "                        cpu_score += 1\n",
    "                        player_score += 0\n",
    "                        (print(\"THE COMPUTER CHOSE\",cpu_gesture), print(\"YOU LOST THIS ROUND\"))\n",
    "                        break\n",
    "                    elif (c == gestures_ext[0]) & (p == gestures_ext[3]):\n",
    "                        rounds += 1\n",
    "                        cpu_score += 1\n",
    "                        player_score += 0\n",
    "                        (print(\"THE COMPUTER CHOSE\",cpu_gesture), print(\"YOU LOST THIS ROUND\"))\n",
    "                        break\n",
    "                    elif (c == gestures_ext[0]) & (p == gestures_ext[4]):\n",
    "                        rounds += 1\n",
    "                        cpu_score += 0\n",
    "                        player_score += 1\n",
    "                        (print(\"THE COMPUTER CHOSE\",cpu_gesture), print(\"YOU WON THIS ROUND\"))\n",
    "                        break\n",
    "                    elif (c == gestures_ext[1]) & (p == gestures_ext[0]):\n",
    "                        rounds += 1\n",
    "                        cpu_score += 1\n",
    "                        player_score += 0\n",
    "                        (print(\"THE COMPUTER CHOSE\",cpu_gesture), print(\"YOU LOST THIS ROUND\"))\n",
    "                        break\n",
    "                    elif (c == gestures_ext[1]) & (p == gestures_ext[2]):\n",
    "                        rounds += 1\n",
    "                        cpu_score += 0\n",
    "                        player_score += 1\n",
    "                        (print(\"THE COMPUTER CHOSE\",cpu_gesture), print(\"YOU WON THIS ROUND\"))\n",
    "                        break    \n",
    "                    elif (c == gestures_ext[1]) & (p == gestures_ext[3]):\n",
    "                        rounds += 1\n",
    "                        cpu_score += 0\n",
    "                        player_score += 1\n",
    "                        (print(\"THE COMPUTER CHOSE\",cpu_gesture), print(\"YOU WON THIS ROUND\"))\n",
    "                        break\n",
    "                    elif (c == gestures_ext[1]) & (p == gestures_ext[4]):\n",
    "                        rounds += 1\n",
    "                        cpu_score += 1\n",
    "                        player_score += 0\n",
    "                        (print(\"THE COMPUTER CHOSE\",cpu_gesture), print(\"YOU LOST THIS ROUND\"))\n",
    "                        break\n",
    "                    elif (c == gestures_ext[2]) & (p == gestures_ext[0]):\n",
    "                        rounds += 1\n",
    "                        cpu_score += 0\n",
    "                        player_score += 1\n",
    "                        (print(\"THE COMPUTER CHOSE\",cpu_gesture), print(\"YOU WON THIS ROUND\"))\n",
    "                        break\n",
    "                    elif (c == gestures_ext[2]) & (p == gestures_ext[1]):\n",
    "                        rounds += 1\n",
    "                        cpu_score += 1\n",
    "                        player_score += 0\n",
    "                        (print(\"THE COMPUTER CHOSE\",cpu_gesture), print(\"YOU LOST THIS ROUND\"))\n",
    "                        break\n",
    "                    elif (c == gestures_ext[2]) & (p == gestures_ext[3]):\n",
    "                        rounds += 1\n",
    "                        cpu_score += 1\n",
    "                        player_score += 0\n",
    "                        (print(\"THE COMPUTER CHOSE\",cpu_gesture), print(\"YOU LOST THIS ROUND\"))\n",
    "                        break\n",
    "                    elif (c == gestures_ext[2]) & (p == gestures_ext[4]):\n",
    "                        rounds += 1\n",
    "                        cpu_score += 0\n",
    "                        player_score += 1\n",
    "                        (print(\"THE COMPUTER CHOSE\",cpu_gesture), print(\"YOU WON THIS ROUND\"))\n",
    "                        break\n",
    "                    elif (c == gestures_ext[3]) & (p == gestures_ext[0]):\n",
    "                        rounds += 1\n",
    "                        cpu_score += 0\n",
    "                        player_score += 1\n",
    "                        (print(\"THE COMPUTER CHOSE\",cpu_gesture), print(\"YOU WON THIS ROUND\"))\n",
    "                        break\n",
    "                    elif (c == gestures_ext[3]) & (p == gestures_ext[1]):\n",
    "                        rounds += 1\n",
    "                        cpu_score += 1\n",
    "                        player_score += 0\n",
    "                        (print(\"THE COMPUTER CHOSE\",cpu_gesture), print(\"YOU LOST THIS ROUND\"))\n",
    "                        break\n",
    "                    elif (c == gestures_ext[3]) & (p == gestures_ext[2]):\n",
    "                        rounds += 1\n",
    "                        cpu_score += 0\n",
    "                        player_score += 1\n",
    "                        (print(\"THE COMPUTER CHOSE\",cpu_gesture), print(\"YOU WON THIS ROUND\"))\n",
    "                        break\n",
    "                    elif (c == gestures_ext[3]) & (p == gestures_ext[4]):\n",
    "                        rounds += 1\n",
    "                        cpu_score += 1\n",
    "                        player_score += 0\n",
    "                        (print(\"THE COMPUTER CHOSE\",cpu_gesture), print(\"YOU LOST THIS ROUND\"))\n",
    "                        break\n",
    "                    elif (c == gestures_ext[4]) & (p == gestures_ext[0]):\n",
    "                        rounds += 1\n",
    "                        cpu_score += 1\n",
    "                        player_score += 0\n",
    "                        (print(\"THE COMPUTER CHOSE\",cpu_gesture), print(\"YOU LOST THIS ROUND\"))\n",
    "                        break\n",
    "                    elif (c == gestures_ext[4]) & (p == gestures_ext[1]):\n",
    "                        rounds += 1\n",
    "                        cpu_score += 0\n",
    "                        player_score += 1\n",
    "                        (print(\"THE COMPUTER CHOSE\",cpu_gesture), print(\"YOU WON THIS ROUND\"))\n",
    "                        break\n",
    "                    elif (c == gestures_ext[4]) & (p == gestures_ext[2]):\n",
    "                        rounds += 1\n",
    "                        cpu_score += 1\n",
    "                        player_score += 0\n",
    "                        (print(\"THE COMPUTER CHOSE\",cpu_gesture), print(\"YOU LOST THIS ROUND\"))\n",
    "                        break\n",
    "                    elif (c == gestures_ext[4]) & (p == gestures_ext[3]):\n",
    "                        rounds += 1\n",
    "                        cpu_score += 0\n",
    "                        player_score += 1\n",
    "                        (print(\"THE COMPUTER CHOSE\",cpu_gesture), print(\"YOU WON THIS ROUND\"))\n",
    "                        break\n",
    "        if (cpu_score == rounds_to_win):\n",
    "            print(\"____________________________________GAME OVER, THE SYSTEM GOT TO YOU\")\n",
    "            break\n",
    "        elif (player_score == rounds_to_win):\n",
    "            print(\"____________________________________YOU BEAT THE SYSTEM\")\n",
    "            break\n",
    "        elif (n_rounds_ext == rounds) & (player_score != rounds_to_win) & (cpu_score != rounds_to_win):\n",
    "            if player_score > cpu_score:\n",
    "                print(\"____________________________________YOU BEAT THE SYSTEM\")\n",
    "                break\n",
    "            elif cpu_score > player_score:\n",
    "                print(\"____________________________________GAME OVER, THE SYSTEM GOT TO YOU\")\n",
    "                break\n",
    "            elif cpu_score == player_score:\n",
    "                print(\"____________________________________YOU'VE MET YOUR MATCH, IT'S A TIE\")\n",
    "                break"
   ]
  }
 ],
 "metadata": {
  "kernelspec": {
   "display_name": "Python 3",
   "language": "python",
   "name": "python3"
  },
  "language_info": {
   "codemirror_mode": {
    "name": "ipython",
    "version": 3
   },
   "file_extension": ".py",
   "mimetype": "text/x-python",
   "name": "python",
   "nbconvert_exporter": "python",
   "pygments_lexer": "ipython3",
   "version": "3.9.4"
  }
 },
 "nbformat": 4,
 "nbformat_minor": 2
}
